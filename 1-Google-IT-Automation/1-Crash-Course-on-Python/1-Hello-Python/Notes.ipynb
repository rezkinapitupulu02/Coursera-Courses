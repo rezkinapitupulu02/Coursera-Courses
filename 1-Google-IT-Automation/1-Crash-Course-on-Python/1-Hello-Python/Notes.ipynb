{
 "cells": [
  {
   "attachments": {},
   "cell_type": "markdown",
   "metadata": {},
   "source": [
    "# Hello Python"
   ]
  },
  {
   "attachments": {},
   "cell_type": "markdown",
   "metadata": {},
   "source": [
    "## Course Introduction"
   ]
  },
  {
   "attachments": {},
   "cell_type": "markdown",
   "metadata": {},
   "source": [
    "### Specialization Introduction"
   ]
  },
  {
   "attachments": {},
   "cell_type": "markdown",
   "metadata": {},
   "source": [
    "- IT support is a career path with potential for growth and better wages.\n",
    "- A study by Harvard Business School, Accenture, and Burning Glass called \"Bridge the Gap\" highlights the opportunities in IT support.\n",
    "- Learning to code in Python can lead to career advancement in IT support and related technical roles.\n",
    "- Python is a popular language to learn, according to the Stack Overflow Developer Survey.\n",
    "- Google offers an IT support program that teaches coding in Python.\n",
    "- The program is designed for individuals already in or aspiring to be in the IT field.\n",
    "- The program uses code blocks, Jupyter notebooks, and Qwiklabs for hands-on learning.\n",
    "- The instructors in the program are experienced Googlers who started their careers in IT support.\n",
    "- The program aims to introduce Python and automation in the context of IT systems support and administration.\n",
    "- The instructor, Christine Rafla, is a Systems Administrator at Google and wants to see more women represented in the IT industry.\n",
    "- The program encourages learning from mistakes and offers a supportive network.\n",
    "- The program consists of courses on Python, interacting with the operating system, Git and GitHub, troubleshooting and debugging, automation at scale, and a final project.\n",
    "- Students can showcase their projects on GitHub to impress employers.\n",
    "- The instructors for each course are Roger Martinez, Kenny Sulma, Amanda Ballas, and Phelan Vendeville.\n",
    "- The instructors are experienced professionals in their respective fields.\n",
    "- The program aims to provide new skills and an enjoyable learning experience."
   ]
  },
  {
   "attachments": {},
   "cell_type": "markdown",
   "metadata": {},
   "source": [
    "### Course Introduction"
   ]
  },
  {
   "attachments": {},
   "cell_type": "markdown",
   "metadata": {},
   "source": [
    "- Programming skills in IT offer numerous opportunities for career growth.\n",
    "- Learning to write scripts and programs in languages like Python can make work easier, more efficient, and aid in career advancement.\n",
    "- Starting to learn a programming language can be exciting, but also intimidating.\n",
    "- Christine Rafla, a systems administrator at Google, will be the instructor for the course.\n",
    "- Automation is a crucial skill for IT support specialists, systems administrators, and related roles.\n",
    "- Coding skills can lead to specialization in roles such as systems administrator, Cloud Solutions engineer, DevOps specialist, site reliability engineer, web developer, or data analyst.\n",
    "- Employers are increasingly seeking candidates with programming skills.\n",
    "- Learning a new skill requires practice and starting with the basics before progressing to more complex tasks.\n",
    "- The course will cover the foundations of programming and Python, with practical exercises and real-world examples.\n",
    "- The focus will be on automation, getting computers to perform tasks that humans would typically do manually.\n",
    "- The course will introduce key concepts of programming and scripting, empowering learners to identify automation opportunities.\n",
    "- The goal is not to cover all aspects of software engineering but to provide foundational knowledge for automation in real-life scenarios.\n",
    "- The course offers the potential to take careers to new levels."
   ]
  },
  {
   "attachments": {},
   "cell_type": "markdown",
   "metadata": {},
   "source": [
    "## Introduction to Python"
   ]
  },
  {
   "attachments": {},
   "cell_type": "markdown",
   "metadata": {},
   "source": [
    "### The Beginning of Your Programming Journey\n",
    "\n",
    "- Learning to write scripts in Python is the first step in a journey.\n",
    "- The course acknowledges the challenges but reassures that it's not scary and will proceed at a comfortable pace.\n",
    "- Fundamental concepts of computer programming, scripting, and different programming languages will be covered.\n",
    "- Hands-on coding exercises, including the creation of the first Python script, will be provided.\n",
    "- If feeling lost or confused, learners can rewatch videos and use the discussion forums for extra information and support.\n",
    "- It is emphasized that coding rarely works perfectly on the first try and that experience is necessary to connect the dots.\n",
    "- Learners can progress at their own pace and skip ahead or take time with each concept.\n",
    "- The assessments will be available when ready, and self-doubt should be overcome by realizing that even experienced programmers started from scratch.\n",
    "- The next topic will be an overview of programming.\n",
    "\n",
    "### What is programming?\n",
    "\n",
    "Syntax: How a sentence is constructed\n",
    "Semantics: What's the meaning\n",
    "Script: Small programs\n",
    "\n",
    "- A computer program is a set of instructions that tells the computer what to do.\n",
    "- Programs are written in programming languages, which have syntax and semantics.\n",
    "- Syntax refers to the rules for constructing instructions, while semantics refers to the meaning of the instructions.\n",
    "- Programming languages, like spoken languages, have different options to choose from but share fundamental ideas.\n",
    "- Clarity is essential when writing programs because computers strictly follow instructions.\n",
    "- The terms \"script\" and \"program\" are used interchangeably in this course, with scripts typically being shorter and simpler programs.\n",
    "- Python is the scripting language focused on in this course, and learners will understand its syntax and semantics.\n",
    "- Automation will be discussed further, including its usefulness.\n",
    "\n",
    "### What is automation?\n",
    "\n",
    "- Automation replaces manual steps with automatic processes.\n",
    "- Examples of automation in daily life include scheduled bill payments, self-checkout at grocery stores, and programmable coffee machines.\n",
    "- Automation allows humans to focus on complex tasks and increases consistency.\n",
    "- Automation is not suitable for every situation, as some tasks require creativity or flexibility.\n",
    "- Automation can save time, reduce errors, increase consistency, and centralize solutions.\n",
    "- The course will discuss when and how to apply automation effectively.\n",
    "\n",
    "### Uses for Automation\n",
    "\n",
    "- Automation replaces repetitive manual tasks with automatic processes.\n",
    "- Automation increases consistency and can run continuously without tiring.\n",
    "- Cost-effectiveness is a key advantage of automation over human labor.\n",
    "- Examples of appropriate uses for automation include timing and regulating traffic lights, data duplication detection and removal, automated personalized emails, system reporting, software installation, generating reports, deploying files or programs, populating e-commerce sites, and managing user permissions.\n",
    "- Automation is not suitable for tasks that require human creativity, social connection, psychology, flexibility, evaluation, or complex analytic work.\n",
    "- Tasks like designing a configuration management system, troubleshooting end user problems, writing a computer program, wedding photography, haircutting, machine troubleshooting, interviewing and hiring employees, customer service, and grocery store checkout require human intervention.\n",
    "- Automation should not be fully implemented for tasks that are cost-prohibitive or pose safety concerns.\n",
    "- Basic automation is different from artificial intelligence (AI), as AI involves training machines through machine learning to perform complex tasks without explicit programming instructions.\n",
    "- AI automation is more complex and advanced compared to basic automation.\n",
    "\n",
    "### Getting Computers to Work for You\n",
    "\n",
    "- IT tasks often involve using a computer to perform specific tasks such as creating user accounts, configuring networks, installing software, and backing up data.\n",
    "- Automation is useful for tasks that are repetitive and require little variation, reducing the possibility of human errors and saving time.\n",
    "- Automating tasks like checking for duplicate email addresses in a mailing list can be more efficient and less error-prone than manual checking.\n",
    "- Writing a program to automate tasks allows computers to perform them accurately and consistently, saving time and effort.\n",
    "- Automation can also personalize emails by automatically adding names and other relevant information.\n",
    "- Learning programming is essential for automating tasks and allowing computers to perform work on your behalf.\n",
    "- Automation examples include automating access permissions for Google Internal Services and automating the authentication process.\n",
    "- Discussing ideas for automation with others can spark new insights and collaboration.\n",
    "- A quiz is available for practice after completing the discussion prompts.\n",
    "\n",
    "### Study Guide: Introduction to Programming\n",
    "\n",
    "**Key Terms**:\n",
    "\n",
    "- Programming code: Set of written computer instructions using a programming language.\n",
    "- Programming languages: Languages used to write computer programs (e.g., Python, Java, C++).\n",
    "- Syntax: Rules for constructing statements in programming languages.\n",
    "- Semantics: Intended meaning or effect of statements in programming languages.\n",
    "- Computer program: Step-by-step instructions for a computer to achieve a goal.\n",
    "- Script: Shorter, less complex programs used for automating tasks.\n",
    "- Automation: Replacing manual steps with automatic processes.\n",
    "- Output: Result of a function or program (e.g., value, report, database entries).\n",
    "- Input: Information provided to a program by the user (text, voice, images, etc.).\n",
    "- Functions: Reusable blocks of code that perform specific tasks.\n",
    "- Variables: Temporary storage for changeable values in programming code.\n",
    "\n",
    "### Practice Quiz: Introduction to Programming\n",
    "\n",
    "![Introduction to Programming Quiz](Images/Asset1.png)"
   ]
  },
  {
   "attachments": {},
   "cell_type": "markdown",
   "metadata": {},
   "source": [
    "## Introduction to Python\n",
    "\n",
    "### What is Python?\n",
    "\n",
    "- Quiz: Assessing your understanding of the concepts.\n",
    "- Learning process: Reviewing videos and retrying the quiz if questions are challenging.\n",
    "- Comfort with concepts: Feeling confident before moving on to the next lesson.\n",
    "- Python programming language: Chosen for the course due to its readability and ease of use.\n",
    "- Similarity to human language: Python's syntax is easy to read and write, making it feel similar to using a human language.\n",
    "\n",
    "Example of Python being easy to read:"
   ]
  },
  {
   "cell_type": "code",
   "execution_count": 2,
   "metadata": {},
   "outputs": [
    {
     "name": "stdout",
     "output_type": "stream",
     "text": [
      "Hi Taylor\n",
      "Hi Alex\n",
      "Hi Pat\n",
      "Hi Eli\n"
     ]
    }
   ],
   "source": [
    "friends = ['Taylor', 'Alex', 'Pat', 'Eli']\n",
    "for friend in friends:\n",
    "    print(\"Hi \" + friend)"
   ]
  },
  {
   "attachments": {},
   "cell_type": "markdown",
   "metadata": {},
   "source": [
    "- Code demonstration: A code is shown that defines a list of friends' names and creates greetings for each name.\n",
    "- Starting with small coding exercises: Using code blocks in the web browser to practice Python code execution.\n",
    "- Practice and experimentation: Recommended to practice every example on your own and use online Python interpreters if Python is not installed on your machine.\n",
    "- Python interpreter: The program that reads and executes Python code, translating it into instructions for the computer to follow.\n",
    "- Installing Python: Guidance on installing Python locally for further experimentation (upcoming in the course).\n",
    "- Online resources: Links to online interpreters and code pads provided for practicing Python.\n",
    "- Exercises and creativity: Encouragement to come up with your own exercises and share them in the discussion forums."
   ]
  },
  {
   "attachments": {},
   "cell_type": "markdown",
   "metadata": {},
   "source": [
    "### Python Resources\n",
    "\n",
    "**Python resources**:\n",
    "1. [Official Python Documentation](https://docs.python.org/3/)\n",
    "2. [Search for answer in Stack Overflow](https://stackoverflow.com/)\n",
    "3. Subscripe to the python [tutor](https://mail.python.org/mailman/listinfo/tutor) mailing list to ask questions and collaborate with other python learner\n",
    "4. Subscribe to [Python-announce](https://mail.python.org/mailman/listinfo/python-announce-list) to read latest updates in the language.\n",
    "\n",
    "### A note on syntax and code blocks\n",
    "\n",
    "- Syntax errors:\n",
    "  - Importance of using correct syntax to avoid errors.\n",
    "  - Small typos can cause syntax errors.\n",
    "  - Examples of common syntax errors: misspellings, incorrect indentations, missing or incorrect key characters (brackets, quotes, colons), data type mismatches, Python reserved word errors, case sensitivity.\n",
    "\n",
    "- Semantic errors:\n",
    "  - Semantic problems can occur even if syntax is correct.\n",
    "  - Semantic errors involve meaning and logic of code.\n",
    "  - Examples of common semantic errors: unintentional output, poor logic structures in code design.\n",
    "\n",
    "- Importance of considering both syntax and semantics when working with code blocks.\n",
    "- Reminder to pay attention to overall code result and not just fixing errors.\n",
    "- Encouragement to click Run after fixing errors to verify the code's behavior.\n",
    "\n",
    "### Why is Python relevant to IT?\n",
    "\n",
    "- Python is simple and easy to use, with easy-to-read syntax, making it great for learning programming.\n",
    "- Python is widely used in the IT industry and is one of the most common programming languages.\n",
    "- Python was first released in 1991 and has since grown and advanced with new major versions (Python 2 in 2000, Python 3 in 2008).\n",
    "- Python 3.7, released in 2018, will be used in this course.\n",
    "- Python was initially considered a beginner's language but has gained significant adoption and is now used for various applications.\n",
    "- Python has become more powerful and offers a wide range of tools for different tasks, such as statistics, e-commerce, image processing, web services, and automation.\n",
    "- Python is popular in IT support, system administration, web development, machine learning, and data analytics.\n",
    "- Python is available for download on different operating systems (Windows, Linux, Mac OS).\n",
    "- Python is widely used in the workplace, and if you're pursuing a career in IT, you're likely to encounter it frequently.\n",
    "- Python's relevance to the IT industry is supported by its popularity and versatility.\n",
    "\n",
    "- Learning programming involves trial and error, and it's important to ask questions when stuck.\n",
    "- Mistakes and failures are opportunities to learn and improve programming skills.\n",
    "- Seeking help from teammates, mentors, and online resources like Stack Overflow is valuable when facing challenges.\n",
    "- Experienced programmers also rely on colleagues and online resources for assistance.\n",
    "- After completing the program, you'll have a good foundation in basic Python programming.\n",
    "- There are numerous online resources available to further develop programming skills, including online courses, official Python documentation, discussion forums, Stack Overflow, and Python mailing lists.\n",
    "- The programming community is supportive, and there are resources to help you find answers to your questions throughout your career.\n",
    "- It's encouraged to take a break and then explore the supplemental reading for more information on Python and available learning resources.\n",
    "\n",
    "### Other Languages\n",
    "\n",
    "- Python is one of many programming languages, each with its own strengths and weaknesses.\n",
    "- Different languages have different performance characteristics and are suited for specific applications.\n",
    "- Platform-specific scripting languages like PowerShell and Bash are commonly used by system administrators.\n",
    "- Other general-purpose scripting languages similar to Python include Perl and Ruby.\n",
    "- JavaScript is not only used as a client-side scripting language but also increasingly on the server-side.\n",
    "- Traditional languages like C, C++, Java, and Go are also widely used.\n",
    "- Learning the basics of programming in one language, such as Python, helps in understanding and picking up other languages.\n",
    "- Once you understand the fundamentals of programming, learning another language becomes easier.\n",
    "- Learning a programming language is similar to learning a foreign language, with syntax and semantics to grasp.\n",
    "- There are more similarities than differences between programming languages.\n",
    "\n",
    "This is an example on how to print hello world in 3 different languages:"
   ]
  },
  {
   "cell_type": "code",
   "execution_count": 3,
   "metadata": {},
   "outputs": [
    {
     "name": "stdout",
     "output_type": "stream",
     "text": [
      "Hello, World!\n",
      "Hello, World!\n",
      "Hello, World!\n",
      "Hello, World!\n",
      "Hello, World!\n",
      "Hello, World!\n",
      "Hello, World!\n",
      "Hello, World!\n",
      "Hello, World!\n",
      "Hello, World!\n"
     ]
    }
   ],
   "source": [
    "for i in range(10):\n",
    "    print(\"Hello, World!\")"
   ]
  },
  {
   "cell_type": "code",
   "execution_count": null,
   "metadata": {
    "vscode": {
     "languageId": "powershell"
    }
   },
   "outputs": [],
   "source": [
    "# You can't run this in python notebook\n",
    "\n",
    "# Powershell\n",
    "\n",
    "for ($i=1; $i -le 10; $i++){\n",
    "    Write-Host \"Hello World!\"\n",
    "}\n",
    "\n",
    "# Bash\n",
    "for i in {1..10}; do\n",
    "    echo Hello, World!\n",
    "done"
   ]
  },
  {
   "attachments": {},
   "cell_type": "markdown",
   "metadata": {},
   "source": [
    "### Study Guide: Introduction to Python\n",
    "\n",
    "![Study Guide](Images/Asset2.png)"
   ]
  },
  {
   "attachments": {},
   "cell_type": "markdown",
   "metadata": {},
   "source": [
    "### Quiz: Introduction to Python\n",
    "\n",
    "![Quiz Intro to Python](Images/Asset3.png)"
   ]
  },
  {
   "attachments": {},
   "cell_type": "markdown",
   "metadata": {},
   "source": [
    "## Hello, World!\n",
    "\n",
    "- This is how you print 'Hello, World' in Python"
   ]
  },
  {
   "cell_type": "code",
   "execution_count": 5,
   "metadata": {},
   "outputs": [
    {
     "name": "stdout",
     "output_type": "stream",
     "text": [
      "Hello, World!\n"
     ]
    }
   ],
   "source": [
    "print(\"Hello, World!\")"
   ]
  },
  {
   "attachments": {},
   "cell_type": "markdown",
   "metadata": {},
   "source": [
    "\n",
    "- The code uses the print function in Python to display the words \"hello world\" on the screen.\n",
    "- **Functions** in programming are blocks of code that perform a specific task.\n",
    "- **Keywords** are reserved words in the programming language used to construct instructions.\n",
    "- Functions and keywords are part of the language's syntax and are used to communicate instructions to the computer.\n",
    "- Examples of keywords in Python include if, while, and for, and they have specific usage rules.\n",
    "- **Strings** are blocks of text wrapped in quotation marks and are manipulated by the script.\n",
    "- Text outside of quotation marks is considered part of the code itself.\n",
    "\n",
    "Trivia:\n",
    "- The \"hello world\" example is a traditional starting point for learning programming languages and provides an initial understanding of how functions are used and what a program looks like.\n",
    "- The Python version of the \"hello world\" example is a single line, while other languages may require more lines.\n",
    "- Writing \"hello world\" is a simple introduction, and further challenges await to enhance programming skills."
   ]
  },
  {
   "attachments": {},
   "cell_type": "markdown",
   "metadata": {},
   "source": [
    "### Getting Information from the User\n",
    "\n",
    "- Programs need to receive information from the user to be useful.\n",
    "- Data can be provided to a computer through various means, such as text fields, buttons, drop-down menus, command line parameters, or interactive prompts.\n",
    "- Different platforms, programs, and apps process data in different ways.\n",
    "- The example of automating duplicate email identification involved providing a list of emails as the data, typically stored in a file.\n",
    "- In the initial examples of this course, data is directly included in the code as its own line, which is simple but limited.\n",
    "- Future courses will explore more advanced methods of feeding data into code.\n",
    "- The concept of obtaining and processing data is demonstrated below:"
   ]
  },
  {
   "cell_type": "code",
   "execution_count": 6,
   "metadata": {},
   "outputs": [
    {
     "name": "stdout",
     "output_type": "stream",
     "text": [
      "Hello Brook\n"
     ]
    }
   ],
   "source": [
    "name = \"Brook\"\n",
    "print(\"Hello \" + name)"
   ]
  },
  {
   "cell_type": "code",
   "execution_count": 7,
   "metadata": {},
   "outputs": [
    {
     "name": "stdout",
     "output_type": "stream",
     "text": [
      "Hello Alex\n"
     ]
    }
   ],
   "source": [
    "# If you want to change the name\n",
    "\n",
    "name = \"Alex\"\n",
    "print(\"Hello \" + name)"
   ]
  },
  {
   "attachments": {},
   "cell_type": "markdown",
   "metadata": {},
   "source": [
    "### Python can be your calculator\n",
    "\n",
    "- You can also use python as your Calculator!\n",
    "- Here is the example"
   ]
  },
  {
   "cell_type": "code",
   "execution_count": 8,
   "metadata": {},
   "outputs": [
    {
     "name": "stdout",
     "output_type": "stream",
     "text": [
      "9\n",
      "63\n",
      "-0.25\n",
      "0.3333333333333333\n"
     ]
    }
   ],
   "source": [
    "print(4+5)\n",
    "print(9*7)\n",
    "print(-1/4)\n",
    "print(1/3)"
   ]
  },
  {
   "cell_type": "code",
   "execution_count": 9,
   "metadata": {},
   "outputs": [
    {
     "name": "stdout",
     "output_type": "stream",
     "text": [
      "42.0\n"
     ]
    }
   ],
   "source": [
    "# For complex calculations, use parenthese \"()\"\n",
    "print(((2050/5)-32)/9)"
   ]
  },
  {
   "cell_type": "code",
   "execution_count": 11,
   "metadata": {},
   "outputs": [
    {
     "name": "stdout",
     "output_type": "stream",
     "text": [
      "8\n"
     ]
    }
   ],
   "source": [
    "# Power\n",
    "# 2^3\n",
    "\n",
    "print(2**3)"
   ]
  },
  {
   "attachments": {},
   "cell_type": "markdown",
   "metadata": {},
   "source": [
    "- Python's math capabilities are useful for various tasks in IT jobs that involve calculations.\n",
    "- Writing a script can help perform calculations faster and more accurately.\n",
    "- Python has advanced numeric capabilities for data analysis, statistics, machine learning, and scientific applications.\n",
    "- The course focuses on basic math operations and does not cover advanced capabilities.\n",
    "- Online resources are available for further learning.\n",
    "- A cheat sheet will be provided for programming concepts covered.\n",
    "- The next step is a quiz with small coding exercises.\n",
    "- Encouragement is given to tackle the upcoming challenges confidently."
   ]
  },
  {
   "attachments": {},
   "cell_type": "markdown",
   "metadata": {},
   "source": [
    "### First Programming Concepts\n",
    "\n",
    "![](Images/Asset4.png)"
   ]
  },
  {
   "attachments": {},
   "cell_type": "markdown",
   "metadata": {},
   "source": [
    "Links:\n",
    "\n",
    "1. [Built-in Functions](https://docs.python.org/3/library/functions.html)\n",
    "2. [Python Keywords](https://www.w3schools.com/python/python_ref_keywords.asp)\n",
    "3. [Different Arithmetic operators in Python](https://flexiple.com/python/arithmetic-operators-in-python/)"
   ]
  },
  {
   "attachments": {},
   "cell_type": "markdown",
   "metadata": {},
   "source": [
    "### Quiz: Hello World\n",
    "\n",
    "![](Images/Asset5.png)"
   ]
  },
  {
   "attachments": {},
   "cell_type": "markdown",
   "metadata": {},
   "source": [
    "## Module Review\n",
    "\n",
    "![](Images/Asset6.png)"
   ]
  },
  {
   "attachments": {},
   "cell_type": "markdown",
   "metadata": {},
   "source": [
    "## Module1: Quiz\n",
    "\n",
    "![](Images/Asset7.png)"
   ]
  },
  {
   "attachments": {},
   "cell_type": "markdown",
   "metadata": {},
   "source": []
  }
 ],
 "metadata": {
  "kernelspec": {
   "display_name": "Python 3",
   "language": "python",
   "name": "python3"
  },
  "language_info": {
   "codemirror_mode": {
    "name": "ipython",
    "version": 3
   },
   "file_extension": ".py",
   "mimetype": "text/x-python",
   "name": "python",
   "nbconvert_exporter": "python",
   "pygments_lexer": "ipython3",
   "version": "3.11.4"
  },
  "orig_nbformat": 4
 },
 "nbformat": 4,
 "nbformat_minor": 2
}
