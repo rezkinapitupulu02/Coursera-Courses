{
 "cells": [
  {
   "attachments": {},
   "cell_type": "markdown",
   "metadata": {},
   "source": [
    "# Basic Python Syntax\n",
    "\n",
    "In this module you’ll learn about different data types in Python, how to identify them, and how to convert between them. You’ll also learn how to use variables to assign data and to reference variables. You’ll deep dive into functions: how to define them, pass them parameters, and have them return information. You’ll explore the concepts of code reuse, code style, and refactoring complex code, along with effectively using code comments. Finally, you’ll learn about comparing data using equality and logical operators, and leveraging these to build complex branching scripts using if statements.\n",
    "\n",
    "**Learning Objectives:**\n",
    "* Differentiate and convert between different data types utilizing variables\n",
    "* Define and call functions utilizing parameters and return data\n",
    "* Refactor code and write comments to reduce complexity and enhance code readability and code reuse\n",
    "* Compare values using equality operators and logical operators\n",
    "* Build complex branching scripts utilizing if, else and elif statements"
   ]
  },
  {
   "attachments": {},
   "cell_type": "markdown",
   "metadata": {},
   "source": [
    "## Expressions and Variables\n",
    "\n",
    "### Basic Python Syntax Introduction\n",
    "\n",
    "- Completion of first graded assessment is acknowledged and praised.\n",
    "- Acknowledgment that some topics may be difficult, especially for beginners.\n",
    "- Introduction to basic concepts of programming and automation.\n",
    "- Mention of Python as the programming language.\n",
    "- Preview of upcoming topics: variables, expressions, functions, and conditional blocks.\n",
    "- Comparison of learning programming syntax to learning a spoken language.\n",
    "- Emphasis on learning syntax rather than complex tasks.\n",
    "- Promise of simple exercises to understand concepts and gradual progression to more challenging problems.\n",
    "- Encouragement to watch videos and take practice quizzes multiple times if needed.\n",
    "- Importance of practice for improving programming skills.\n",
    "- Analogy of building programming skills to building muscles in the gym.\n",
    "- Introduction to the next topic: data types.\n",
    "\n",
    "### Data Types\n",
    "\n",
    "- Introduction to the concept of data types in programming.\n",
    "- Explanation that a string is a data type in Python, represented by text between quotes.\n",
    "- Mention of the need for programs to manipulate different forms of data.\n",
    "- Introduction to other data types in Python: **integer** and **float**.\n",
    "- Explanation of an integer representing whole numbers and a float representing numbers with a fractional part.\n",
    "- Statement that **computers cannot mix different data types by default**.\n",
    "- Examples of valid operations: adding two integers or concatenating two strings.\n",
    "- Example of an invalid operation: adding an integer and a string.\n",
    "- Mention of a potential error when mixing different data types.\n"
   ]
  },
  {
   "cell_type": "code",
   "execution_count": 1,
   "metadata": {},
   "outputs": [
    {
     "name": "stdout",
     "output_type": "stream",
     "text": [
      "15\n"
     ]
    }
   ],
   "source": [
    "print(7+8)"
   ]
  },
  {
   "cell_type": "code",
   "execution_count": 2,
   "metadata": {},
   "outputs": [
    {
     "name": "stdout",
     "output_type": "stream",
     "text": [
      "Hello World\n"
     ]
    }
   ],
   "source": [
    "print(\"Hello \" + \"World\")"
   ]
  },
  {
   "cell_type": "code",
   "execution_count": 3,
   "metadata": {},
   "outputs": [
    {
     "ename": "TypeError",
     "evalue": "unsupported operand type(s) for +: 'int' and 'str'",
     "output_type": "error",
     "traceback": [
      "\u001b[1;31m---------------------------------------------------------------------------\u001b[0m",
      "\u001b[1;31mTypeError\u001b[0m                                 Traceback (most recent call last)",
      "Cell \u001b[1;32mIn[3], line 1\u001b[0m\n\u001b[1;32m----> 1\u001b[0m \u001b[39mprint\u001b[39m(\u001b[39m7\u001b[39;49m \u001b[39m+\u001b[39;49m \u001b[39m\"\u001b[39;49m\u001b[39m8\u001b[39;49m\u001b[39m\"\u001b[39;49m)\n",
      "\u001b[1;31mTypeError\u001b[0m: unsupported operand type(s) for +: 'int' and 'str'"
     ]
    }
   ],
   "source": [
    "print(7 + \"8\")\n",
    "\n",
    "# This will cause an error mentioned above"
   ]
  },
  {
   "attachments": {},
   "cell_type": "markdown",
   "metadata": {},
   "source": [
    "- Introduction to an error message: TypeError: unsupported operand type(s) for +: 'int' and \"str'.\n",
    "- Emphasis on not panicking and understanding that errors are common in programming.\n",
    "- Encouragement to view errors as clues to improve programming skills.\n",
    "- Advice to read errors carefully, understand their meaning, and use the knowledge to fix mistakes.\n",
    "- Explanation of the specific error message, indicating that the plus sign cannot be used between an integer and a string.\n",
    "- Encouragement to think about the previously learned concepts of strings, integers, and mixing data types to understand the error.\n",
    "- Highlighting the need for research skills and utilizing available resources to investigate and solve errors.\n",
    "- Suggestion to use search engines to find information about the error message and learn from others' experiences.\n",
    "- Acknowledgment that researching and finding solutions to errors is a common practice among both beginners and experienced developers."
   ]
  },
  {
   "cell_type": "code",
   "execution_count": 4,
   "metadata": {},
   "outputs": [
    {
     "name": "stdout",
     "output_type": "stream",
     "text": [
      "15\n"
     ]
    }
   ],
   "source": [
    "print(7 + 8)\n",
    "\n",
    "# This is a fixed version"
   ]
  },
  {
   "attachments": {},
   "cell_type": "markdown",
   "metadata": {},
   "source": [
    "If you don't know the types, just use \"type\" function:"
   ]
  },
  {
   "cell_type": "code",
   "execution_count": 5,
   "metadata": {},
   "outputs": [
    {
     "data": {
      "text/plain": [
       "int"
      ]
     },
     "execution_count": 5,
     "metadata": {},
     "output_type": "execute_result"
    }
   ],
   "source": [
    "type(1)"
   ]
  },
  {
   "cell_type": "code",
   "execution_count": 6,
   "metadata": {},
   "outputs": [
    {
     "data": {
      "text/plain": [
       "float"
      ]
     },
     "execution_count": 6,
     "metadata": {},
     "output_type": "execute_result"
    }
   ],
   "source": [
    "type(1.2)"
   ]
  },
  {
   "cell_type": "code",
   "execution_count": 8,
   "metadata": {},
   "outputs": [
    {
     "data": {
      "text/plain": [
       "list"
      ]
     },
     "execution_count": 8,
     "metadata": {},
     "output_type": "execute_result"
    }
   ],
   "source": [
    "type([1,2])"
   ]
  },
  {
   "cell_type": "code",
   "execution_count": 9,
   "metadata": {},
   "outputs": [
    {
     "data": {
      "text/plain": [
       "tuple"
      ]
     },
     "execution_count": 9,
     "metadata": {},
     "output_type": "execute_result"
    }
   ],
   "source": [
    "type((1,2))"
   ]
  },
  {
   "cell_type": "code",
   "execution_count": 10,
   "metadata": {},
   "outputs": [
    {
     "data": {
      "text/plain": [
       "str"
      ]
     },
     "execution_count": 10,
     "metadata": {},
     "output_type": "execute_result"
    }
   ],
   "source": [
    "type(\"Hale\")"
   ]
  },
  {
   "attachments": {},
   "cell_type": "markdown",
   "metadata": {},
   "source": [
    "### Data Types Recap\n",
    "\n",
    "In Python, text in between quotes -- either single or double quotes -- is a string data type. An integer is a whole number, without a fraction, while a float is a real number that can contain a fractional part. For example, 1, 7, 342 are all integers, while 5.3, 3.14159 and 6.0 are all floats. When attempting to mix incompatible data types, you may encounter a TypeError. You can always check the data type of something using the type() function."
   ]
  },
  {
   "attachments": {},
   "cell_type": "markdown",
   "metadata": {},
   "source": [
    "## Variables\n",
    "\n",
    "- Introduction to variables as names given to values in programs.\n",
    "- **Variables** can store values of any data type: numbers, strings, or operation results.\n",
    "- Variables act as containers, reserving memory to store values.\n",
    "- Example of a script calculating the area of a rectangle using variables."
   ]
  },
  {
   "cell_type": "code",
   "execution_count": 12,
   "metadata": {},
   "outputs": [
    {
     "name": "stdout",
     "output_type": "stream",
     "text": [
      "20\n"
     ]
    }
   ],
   "source": [
    "length = 10\n",
    "width = 2\n",
    "area = length * width\n",
    "print(area)"
   ]
  },
  {
   "attachments": {},
   "cell_type": "markdown",
   "metadata": {},
   "source": [
    "- Explanation of **assignment**, where values are stored inside variables.\n",
    "- Demonstrating the assignment of values to variables: length = 10, width = 2.\n",
    "- Calculation of the area using the length and width variables: area = length * width.\n",
    "- Definition of an **expression** as a combination of numbers, symbols, or variables that produces a result.\n",
    "- Example of an expression: multiplying the values of two variables.\n",
    "- Usage of the print function to display the value of the area variable: print(area).\n",
    "- Result: 20 is displayed on the screen.\n",
    "- Overview of assigning values to variables, using expressions to calculate complex values, and printing variable contents."
   ]
  },
  {
   "attachments": {},
   "cell_type": "markdown",
   "metadata": {},
   "source": [
    "- Variables are useful in programming for performing operations on changing data.\n",
    "- Example of extending a rectangle script to calculate the area of rectangles of any size.\n",
    "- Example of using variables to perform operations on different files.\n",
    "- Assignment of values to variables using the equal sign: variable equals value.\n",
    "- Naming variables should avoid using reserved keywords or functions in Python, such as \"print.\"\n",
    "- Restrictions on variable names: no spaces, must start with a letter or underscore, can only contain letters, numbers, and underscores.\n",
    "- Examples of valid and invalid variable names to illustrate the restrictions.\n",
    "- Importance of precision in variable names due to Python's case sensitivity.\n",
    "- Clarification that lowercase, uppercase, and all capital letters are considered distinct variable names."
   ]
  },
  {
   "attachments": {},
   "cell_type": "markdown",
   "metadata": {},
   "source": []
  }
 ],
 "metadata": {
  "kernelspec": {
   "display_name": "Python 3",
   "language": "python",
   "name": "python3"
  },
  "language_info": {
   "codemirror_mode": {
    "name": "ipython",
    "version": 3
   },
   "file_extension": ".py",
   "mimetype": "text/x-python",
   "name": "python",
   "nbconvert_exporter": "python",
   "pygments_lexer": "ipython3",
   "version": "3.11.4"
  },
  "orig_nbformat": 4
 },
 "nbformat": 4,
 "nbformat_minor": 2
}
