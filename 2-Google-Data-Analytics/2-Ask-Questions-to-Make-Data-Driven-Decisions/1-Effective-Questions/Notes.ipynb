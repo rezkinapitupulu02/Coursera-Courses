{
 "cells": [
  {
   "attachments": {},
   "cell_type": "markdown",
   "metadata": {},
   "source": [
    "# Effective Questions\n",
    "\n",
    "Untuk mengerjakan tugas seorang data analyst, kamu perlu menanyakan pertanyaan dan menyelesaikan masalah. Padabagian ini, kamu akan melihat beberapa tantangan yang umum dialami oleh para analis, dan bagaimana mereka memitigasi hal tersebut. Kami juga akan belajar tentang teknik-teknik pertanyaan yang efektif yang dapat membantumu dalam melakukan analisa.\n",
    "\n",
    "**Learning Objectives:**\n",
    "\n",
    "1. Jelaskan karakteristik dari pertanyaan yang efektif dengan **SMART Framework**\n",
    "2. Diskusikan **tipe-tipe masalah yang umum** dihadapi oleh data analyst.\n",
    "3. Menjelaskan bagaimana setiap **langkah problem-solving roadmap** berkontribusi dalam menganalisa skenario\n",
    "4. Menjelaskan proses analisis data, membuat **referensi spesifik** untuk tahap ask, prepare, process, analysze, share, dan act.\n",
    "5. Mendeskripsikan ide-ide utama yang berkaitan dengan **structured thinking**, termasuk problem domain, scope of work, dan konteks."
   ]
  },
  {
   "attachments": {},
   "cell_type": "markdown",
   "metadata": {},
   "source": [
    "## Problem-solving and effective questioning"
   ]
  },
  {
   "attachments": {},
   "cell_type": "markdown",
   "metadata": {},
   "source": [
    "### Introduction to problem-solving and effective questioning"
   ]
  },
  {
   "attachments": {},
   "cell_type": "markdown",
   "metadata": {},
   "source": [
    "In this course, we will learn about the **importance of asking effective questions** in data analysis and how they lead to valuable insights for solving business problems.\n",
    "\n",
    "The data analysis process consists of several phases, including \n",
    "* asking, \n",
    "* preparing, \n",
    "* processing, \n",
    "* analyzing, \n",
    "* sharing, and \n",
    "* acting.* \n",
    "\n",
    "The **ask phase** involves **defining the problem** and **understanding stakeholder expectations** to stay focused on the actual problem, leading to successful outcomes. \n",
    "\n",
    "What you will learn in this course:\n",
    "* problem-solving and common business problems that data analysts help solve\n",
    "* Craft effective questions that help you collect the right data\n",
    "* Different types of data\n",
    "* Exploring spreadsheets\n",
    "* Structured Thinking\n",
    "    * The process of recognizing the current problem or situation, organizing available information, revealing gaps and opportunities, and identifying the options.\n",
    "* Some proven strategies for communicating with others effectively"
   ]
  },
  {
   "attachments": {},
   "cell_type": "markdown",
   "metadata": {},
   "source": [
    "### Coursera Syllabus"
   ]
  },
  {
   "attachments": {},
   "cell_type": "markdown",
   "metadata": {},
   "source": [
    "![syllabus](Images/Asset1.png)"
   ]
  },
  {
   "attachments": {},
   "cell_type": "markdown",
   "metadata": {},
   "source": [
    "### Learning Log: Consider what data means to you"
   ]
  },
  {
   "attachments": {},
   "cell_type": "markdown",
   "metadata": {},
   "source": [
    "![](Images/Asset2.png)"
   ]
  },
  {
   "attachments": {},
   "cell_type": "markdown",
   "metadata": {},
   "source": [
    "## Take action with data"
   ]
  },
  {
   "attachments": {},
   "cell_type": "markdown",
   "metadata": {},
   "source": [
    "### Data in action"
   ]
  },
  {
   "attachments": {},
   "cell_type": "markdown",
   "metadata": {},
   "source": [
    "**Case study**: Anywhere Gaming Repair, a service provider for video game system repairs\n",
    "\n",
    "* Business owner's goal of expanding the business through advertising\n",
    "* Importance of considering the target audience and budget when choosing advertising methods\n",
    "* Involvement of data analyst Maria in making a recommendation\n",
    "    * The first phase of the data analysis process: **Ask**, defining the problem and collaborating with stakeholders\n",
    "    * The second phase: **Prepare**, collecting data on the target audience and advertising methods\n",
    "    * The third phase: **Process**, cleaning the data to eliminate errors and inaccuracies\n",
    "    * The fourth phase: **Analyze**, determining the target audience and preferred advertising methods\n",
    "* Discovery of the target audience (people aged 18-34) and popular advertising channels (TV commercials and podcasts)\n",
    "* Recommendation to advertise on podcasts due to cost-effectiveness\n",
    "* Sharing the recommendation with stakeholders using clear and compelling visuals\n",
    "* Action taken by Anywhere Gaming Repair to work with a podcast production agency and run ads\n",
    "    * Positive results with an increase in customers after the first week\n",
    "    * Demonstrating effective problem solving through data analysis phases\n",
    "* Application of the six phases of data analysis to solve real-world problems."
   ]
  },
  {
   "attachments": {},
   "cell_type": "markdown",
   "metadata": {},
   "source": [
    "### From issue to action: The six data analytics phases"
   ]
  },
  {
   "attachments": {},
   "cell_type": "markdown",
   "metadata": {},
   "source": [
    "![](Images/Asset3.png)"
   ]
  },
  {
   "attachments": {},
   "cell_type": "markdown",
   "metadata": {},
   "source": [
    "### NIkki: The data process works"
   ]
  },
  {
   "attachments": {},
   "cell_type": "markdown",
   "metadata": {},
   "source": [
    "* Introduction of Nikki, manager of the education, evaluation, assessment, and research team\n",
    "* Nikki's enthusiasm for finding difficult problems and asking numerous questions in the data analysis process\n",
    "* **Example problem tackled**: Noogler onboarding program at Google (onboarding new hires)\n",
    "    * Focus on determining if Nooglers onboard faster through the new program compared to the old lecture-based program\n",
    "* Collaboration with content providers to understand the meaning of onboarding faster\n",
    "* Data preparation involving population examination, sample set identification, control group determination, data source organization, and data cleanliness\n",
    "* Data processing to ensure compatibility with SQL analysis by structuring it in the appropriate format, columns, and tables\n",
    "* Data analysis conducted using SQL and R scripts to correlate and interpret data in comparison to control and experiment groups\n",
    "* Reporting of findings through reports, dashboards, and presentations tailored to stakeholders' understanding\n",
    "* Positive results observed, leading to the decision to continue the project-based learning onboarding program\n",
    "* Satisfaction in having data-supported evidence of program effectiveness and improved learning and productivity of the participants."
   ]
  },
  {
   "attachments": {},
   "cell_type": "markdown",
   "metadata": {},
   "source": [
    "## Solve problems with data"
   ]
  },
  {
   "attachments": {},
   "cell_type": "markdown",
   "metadata": {},
   "source": [
    "### Common problem types\n",
    "6 common problem types in data analytics:\n",
    "1. Making prediction: to predict how things may do in the future\n",
    "2. Categorizing things: Assigning information to different groups or clusters based on common features\n",
    "3. Spotting something unusual: identifying data that is different from the norm\n",
    "4. Identifying themes: grouping categorized information into broader concepts\n",
    "5. Discovering connections: Finding similar challenges faced by different entities and combining data and insights to address them\n",
    "6. Finding patterns: Example, e commerce finding patterns on certain times of the year"
   ]
  },
  {
   "attachments": {},
   "cell_type": "markdown",
   "metadata": {},
   "source": [
    "### Six problem types\n",
    "\n",
    "![](Images/Asset4.png)"
   ]
  },
  {
   "attachments": {},
   "cell_type": "markdown",
   "metadata": {},
   "source": [
    "### Problems in the real world\n",
    "\n",
    "* Introduction of six common problem types encountered by data analysts: making predictions, categorizing things, spotting something unusual, identifying themes, discovering connections, and finding patterns\n",
    "* Example problem type: making predictions * Using data to determine the best advertising method for Anywhere Gaming Repair's target audience\n",
    "* Example problem type: categorizing things * Reviewing recorded customer service calls to evaluate satisfaction levels and categorizing key words/phrases for performance evaluation and coaching\n",
    "* Example problem type: spotting something unusual * Smartwatch app detecting a sudden spike in heart rate, leading to medical help and diagnosis of a potentially life-threatening condition\n",
    "* Example problem type: identifying themes * User experience designer analyzing anonymous survey data to improve the coffee maker's user experience by identifying themes and making design optimizations\n",
    "* Example problem type: discovering connections * Third-party logistics partners sharing data to reduce wait time by identifying issues causing shipment delays and coordinating delivery schedules\n",
    "* Example problem type: finding patterns * Oil and gas companies analyzing historical data to identify patterns of machine breakdowns and implement timely maintenance interventions\n",
    "* Data's role in helping people and businesses make meaningful changes and improve outcomes."
   ]
  },
  {
   "attachments": {},
   "cell_type": "markdown",
   "metadata": {},
   "source": [
    "## Craft effective questions"
   ]
  },
  {
   "attachments": {},
   "cell_type": "markdown",
   "metadata": {},
   "source": [
    "### SMART questions"
   ]
  },
  {
   "attachments": {},
   "cell_type": "markdown",
   "metadata": {},
   "source": [
    "* Importance of asking effective questions as a data analyst to gain key insights and solve problems\n",
    "* Examples of ineffective questions: leading questions, closed-ended questions, and vague questions lacking context\n",
    "* Introduction to the SMART methodology for effective questions: Specific, Measurable, Action-oriented, Relevant, and Time-bound\n",
    "* Specific questions are focused on a single topic or closely related ideas, allowing for relevant information collection\n",
    "* Measurable questions can be quantified and assessed, providing concrete data to analyze\n",
    "* Action-oriented questions encourage change and help transform the current state into the desired future state\n",
    "* Relevant questions are significant to the problem being solved and provide valuable insights\n",
    "* Time-bound questions specify the time period to be studied, enabling focused analysis on relevant data\n",
    "* Fairness in crafting questions is essential to avoid bias and assumptions, ensuring clear and understandable questions for all respondents\n",
    "* Unfair questions lead to unreliable feedback and hinder the data analyst's ability to gain valuable insights\n",
    "* Introduction to upcoming topics, including different types of data, using data to guide business decisions, visualizations, and metrics for success."
   ]
  },
  {
   "attachments": {},
   "cell_type": "markdown",
   "metadata": {},
   "source": [
    "### More about SMART questions\n",
    "\n",
    "![](Images/Asset5.png)"
   ]
  },
  {
   "attachments": {},
   "cell_type": "markdown",
   "metadata": {},
   "source": [
    "### Self-Reflection: Data analyst scenario\n",
    "\n",
    "![](Images/Asset6.png)"
   ]
  },
  {
   "attachments": {},
   "cell_type": "markdown",
   "metadata": {},
   "source": [
    "### Evan: Data open doors\n",
    "\n",
    "- Introduction to the speaker, Evan, who is a learning portfolio manager at Google\n",
    "- Evan's role involves examining various technologies related to big data and incorporating them into training courses for students\n",
    "- The speaker expresses a wish for having a similar course when they were starting their career in data analysis\n",
    "- The course prepares students for various roles within the data curriculum\n",
    "- Three core roles in the data field: data analyst, data engineer, and data scientist\n",
    "- Data analysts work with SQL, spreadsheets, databases, and may create business intelligence dashboards\n",
    "- Data engineers collaborate with data analysts to transform raw data into actionable pipelines\n",
    "- Data scientists utilize the work of data engineers and analysts to develop advanced machine learning models and statistical inferences\n",
    "- Resources and links will be shared to help students explore each of these roles further\n",
    "- Encouragement to try different paths and discover personal preferences in the data field\n",
    "- The speaker highlights the excitement of becoming a data analyst due to the advancements in tools and technologies that make data analysis more efficient and accessible\n",
    "- The evolution of SQL and data analysis tools has made the process faster and easier compared to the speaker's early experiences\n",
    "- The speaker expresses enthusiasm to hear the students' thoughts and experiences with the course."
   ]
  },
  {
   "attachments": {},
   "cell_type": "markdown",
   "metadata": {},
   "source": [
    "### Self-Reflection: Ask your own SMART questions\n",
    "\n",
    "![](Images/Asset7.png)"
   ]
  },
  {
   "attachments": {},
   "cell_type": "markdown",
   "metadata": {},
   "source": [
    "### Practice Quiz: Test your knowledge on crafting effective questions\n",
    "\n",
    "![](Images/Asset8.png)"
   ]
  },
  {
   "attachments": {},
   "cell_type": "markdown",
   "metadata": {},
   "source": [
    "## Weekly challenge 1\n",
    "\n"
   ]
  }
 ],
 "metadata": {
  "language_info": {
   "name": "python"
  },
  "orig_nbformat": 4
 },
 "nbformat": 4,
 "nbformat_minor": 2
}
