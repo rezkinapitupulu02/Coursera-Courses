{
 "cells": [
  {
   "attachments": {},
   "cell_type": "markdown",
   "metadata": {},
   "source": [
    "# Endless career possibilites"
   ]
  },
  {
   "attachments": {},
   "cell_type": "markdown",
   "metadata": {},
   "source": [
    "Usaha-usaha dari berbagai jenis menghargai pekerjaan yang dilakukan oleh analis data. Di bagian ini dari kursus, Anda akan menemukan tentang usaha-usaha tersebut dan pekerjaan dan tugas khusus yang dilakukan oleh analis untuk mereka. Anda juga akan belajar bagaimana sertifikat analis data Anda akan membantu Anda memenuhi banyak persyaratan untuk posisi dengan usaha-usaha ini.\n",
    "\n",
    "* Deskripsikan peran seorang analis data dengan referensi khusus pada peran pekerjaan:\n",
    "* Diskusikan bagaimana Sertifikat Analisis Data Google dapat membantu seorang kandidat memenuhi persyaratan pekerjaan yang diberikan.\n",
    "* Jelaskan bagaimana tugas bisnis mungkin sesuai untuk seorang analis data, dengan referensi pada *fairness* dan *value* dari data analyst.\n",
    "* Identifikasi perusahaan-perusahaan yang berpotensi akan mempekerjakan analis data.\n",
    "* Deskripsikan bagaimana pengalaman sebelumnya seseorang dapat diterapkan pada karir sebagai analis data.\n",
    "* Tentukan apakah penggunaan data merupakan praktik yang *fair* atau *unfair*.\n",
    "* Pahami berbagai cara organisasi menggunakan data.\n",
    "* Jelaskan konsep pengambilan keputusan berbasis data, termasuk contoh-contoh spesifik."
   ]
  },
  {
   "attachments": {},
   "cell_type": "markdown",
   "metadata": {},
   "source": [
    "## Data Analyst job opportunities"
   ]
  },
  {
   "attachments": {},
   "cell_type": "markdown",
   "metadata": {},
   "source": [
    "### Lets' get down to business"
   ]
  },
  {
   "attachments": {},
   "cell_type": "markdown",
   "metadata": {},
   "source": [
    "* Pembahasan tentang cara praktis bisnis menggunakan data dan peluang yang dapat diciptakannya.\n",
    "* Penekanan pada pentingnya pemahaman mengapa Anda belajar keterampilan analisis data.\n",
    "* Penjelasan tentang peran-peran yang dimainkan oleh analis data dalam industri-industri yang berbeda.\n",
    "* Pentingnya keadilan dan menghindari bias dalam menganalisis data untuk tugas bisnis.\n",
    "* Pembicaraan tentang peluang yang dapat dimanfaatkan dan bagaimana program ini memengaruhi kesuksesan masa depan dan peran analis data.\n",
    "* Kesiapan untuk memulai pembahasan dengan penekanan pada poin-poin di atas.\n",
    "\n",
    "🔑 : praktis data di bisnis, peran2 analis, pentingnya memerhatikan bias"
   ]
  },
  {
   "attachments": {},
   "cell_type": "markdown",
   "metadata": {},
   "source": [
    "### The job of a data analyst"
   ]
  },
  {
   "attachments": {},
   "cell_type": "markdown",
   "metadata": {},
   "source": [
    "* Analis data dapat bekerja di berbagai industri seperti teknologi, pemasaran, keuangan, dan perawatan kesehatan.\n",
    "* Perusahaan-perusahaan besar seperti Coca-Cola dan Google menggunakan data untuk meningkatkan strategi pemasaran dan hasil pencarian.\n",
    "* Bahkan bisnis kecil mulai memanfaatkan data untuk meningkatkan operasional dan pengambilan keputusan.\n",
    "* Contoh nyata penggunaan data adalah prediksi jumlah pengunjung harian di kebun binatang berdasarkan data cuaca dan prediksi jam sibuk di rumah sakit berdasarkan data kunjungan klinik.\n",
    "* Kemampuan analisis data akan membuat Anda berharga di berbagai industri yang mengambil keputusan berdasarkan data.\n",
    "* Pembahasan selanjutnya akan fokus pada tugas bisnis yang dapat dibantu oleh data dan bagaimana analis data memberdayakan bisnis melalui data.\n",
    "\n",
    "🔑: Data analyst memegang peran penting di berbagai organisasi dengan menggunakan data-driven insight untuk meningkatkan strategi bisnis, meningkatkan efisiensi operasional dan membuat keputusan berdasarkan data."
   ]
  },
  {
   "attachments": {},
   "cell_type": "markdown",
   "metadata": {},
   "source": [
    "### Joey Story: Path to becoming a data analyst\n",
    "\n",
    "* Joey is an analytics program manager in the Real Estate and Workplace Services (REWS) department.\n",
    "* His role involves incorporating data and analytics into decision-making for creating a safe and enjoyable work environment.\n",
    "* Joey's journey into analytics began in a rotational program called the HRA program within people operations.\n",
    "* Through different roles, he discovered a passion for analytical work, particularly on the business intelligence team.\n",
    "* Problem-solving and helping people are two passions that Joey connects with in his analytics career.\n",
    "* He emphasizes the importance of blending technical expertise with interpersonal skills for success in analytics.\n",
    "* Initially focusing on technical knowledge, Joey realized the need to develop his interpersonal skills over time.\n",
    "* His career has provided opportunities to nurture both sides—human interaction and technical expertise.\n",
    "\n",
    "🔑: Soft skills are also important."
   ]
  },
  {
   "attachments": {},
   "cell_type": "markdown",
   "metadata": {},
   "source": [
    "### Self-Reflection: Business use of data (Quiz)\n",
    "\n",
    "![quiz](Images\\\\Asset1.png)"
   ]
  },
  {
   "attachments": {},
   "cell_type": "markdown",
   "metadata": {},
   "source": [
    "### Tony: Supporting careers in data analytics"
   ]
  },
  {
   "attachments": {},
   "cell_type": "markdown",
   "metadata": {},
   "source": [
    "* Understanding, respecting, and working with data is crucial for analysts and early-career professionals.\n",
    "* The vision is that every role will involve data, and extracting insights from it will be essential in critical positions across organizations.\n",
    "* In the first two years of a career, developing core skills as a generalist is important.\n",
    "* In the following 2-5 years, individuals can focus on specific areas related to their job or acquire technical expertise.\n",
    "* Various paths can be taken from the starting point, such as transitioning from finance to operations or becoming a business or data analyst.\n",
    "* The speaker is passionate about supporting and providing a jumpstart to young professionals based on personal experiences of lacking support in the early years.\n",
    "* Programs like these help remove barriers and allow individuals to discover their potential and envision their career growth.\n",
    "* The speaker, Tony, is a Finance program manager at Google."
   ]
  },
  {
   "attachments": {},
   "cell_type": "markdown",
   "metadata": {},
   "source": [
    "### Reading: Learning Log: Reflect on the data analysis process\n",
    "\n",
    "![Learning Log](Images/Asset2.png)"
   ]
  },
  {
   "attachments": {},
   "cell_type": "markdown",
   "metadata": {},
   "source": [
    "## The importance of fair business decisions"
   ]
  },
  {
   "attachments": {},
   "cell_type": "markdown",
   "metadata": {},
   "source": [
    "### The power of data in business"
   ]
  },
  {
   "attachments": {},
   "cell_type": "markdown",
   "metadata": {},
   "source": [
    "* Tugas seorang analis data adalah menyelesaikan tugas bisnis yang membantu perusahaan menggunakan data.\n",
    "* Ada tiga hal yang perlu dipahami: \n",
    "    * masalah (**issue**)\n",
    "    * pertanyaan (**question**), dan \n",
    "    * masalah (**problem**).\n",
    "* Coca-Cola memiliki **pertanyaan** tentang produk baru, dan analisis data memberikan wawasan tentang rasa baru yang disukai pelanggan.\n",
    "* City Zoo and Aquarium memiliki masalah dengan penjadwalan karyawan, dan analisis data membantu mereka menemukan strategi penjadwalan terbaik.\n",
    "* Tugas bisnis (**business task**) adalah pertanyaan atau masalah yang dijawab oleh analisis data untuk kepentingan bisnis.\n",
    "* **Keputusan berbasis data** adalah penggunaan fakta yang ditemukan melalui analisis data untuk mengarahkan strategi bisnis.\n",
    "* Analisis data membantu perusahaan membuat keputusan yang lebih baik dengan memberikan gambaran lengkap tentang masalah dan penyebabnya.\n",
    "* Sebagai analis data, tugas Anda adalah mengajukan pertanyaan yang tepat, merencanakan cara terbaik untuk mengumpulkan dan menganalisis data, serta menyajikannya secara visual kepada tim untuk mengambil keputusan berbasis data.\n",
    "* Data adalah alat yang kuat, namun perlu digunakan dengan tanggung jawab untuk memastikan pengumpulan, analisis, dan presentasi data dilakukan dengan adil bagi individu yang diwakili oleh data tersebut."
   ]
  },
  {
   "attachments": {},
   "cell_type": "markdown",
   "metadata": {},
   "source": [
    "🔑: Sebagai seorang analis data, tugas bisnis yang akan Anda hadapi adalah membantu perusahaan dalam menggunakan data, yang melibatkan menjawab **pertanyaan** dan menyelesaikan **masalah** yang mendasarinya dengan melakukan analisis data yang relevan."
   ]
  },
  {
   "attachments": {},
   "cell_type": "markdown",
   "metadata": {},
   "source": [
    "### Rachel: Data detectives"
   ]
  },
  {
   "attachments": {},
   "cell_type": "markdown",
   "metadata": {},
   "source": [
    "* Rachel adalah Business systems and analytics lead di Verily.\n",
    "* Seorang analis data dapat memecahkan berbagai jenis masalah dengan menggunakan berbagai jenis data.\n",
    "* Rachel sebagai analis data keuangan di Verily bertanggung jawab mengubah informasi keuangan perusahaan menjadi laporan dan wawasan yang dapat dipahami oleh tim bisnis.\n",
    "* Salah satu tugas penting yang dilakukan oleh Rachel adalah menciptakan laporan laba rugi untuk setiap unit bisnis di Verily, sehingga tim dapat melihat anggaran dan pengeluaran mereka secara real-time.\n",
    "* Data menjadi bagian hidup yang terus berubah dan tugas analis data adalah mencari cara untuk memahami dan menyusun data dengan bijak.\n",
    "* Meskipun menjadi tantangan, bekerja dengan data dapat memberikan hasil yang sangat memuaskan ketika semua informasi terhubung dan memberikan wawasan yang diharapkan.\n",
    "* Saran terbaik untuk seorang analis data pemula adalah terus mencoba dan tidak takut untuk mencari pendekatan atau pertanyaan yang berbeda, karena suatu saat data akan memberikan wawasan yang diinginkan."
   ]
  },
  {
   "attachments": {},
   "cell_type": "markdown",
   "metadata": {},
   "source": [
    "### Understanding data and fairness"
   ]
  },
  {
   "attachments": {},
   "cell_type": "markdown",
   "metadata": {},
   "source": [
    "* **Fairness** dalam analisis data berarti memastikan bahwa analisis tersebut tidak menciptakan atau memperkuat bias.\n",
    "* Sebagai seorang analis data, penting bagi Anda untuk membantu menciptakan sistem yang adil dan inklusif bagi semua orang.\n",
    "* Terkadang kesimpulan berdasarkan data dapat benar tetapi tidak adil.\n",
    "* Penting untuk mempertimbangkan semua data yang tersedia dan faktor-faktor sekitarnya saat mengambil kesimpulan.\n",
    "* Contoh: Perusahaan yang pegawainya 90% pria melakukan analisa data performa pegawai mereka:\n",
    "    * Kesimpulan yang hanya pria yang berhasil di perusahaan tersebut adalah benar, tetapi mengabaikan faktor sistematis lain yang berkontribusi pada masalah ini.\n",
    "    * Seorang analis data yang etis dapat menyimpulkan bahwa budaya perusahaan mencegah beberapa karyawan untuk berhasil, dan perusahaan perlu mengatasi masalah tersebut untuk meningkatkan kinerja.\n",
    "* Sebagai seorang analis data, tanggung jawab Anda adalah memastikan analisis Anda adil dan mempertimbangkan konteks sosial yang rumit yang dapat menciptakan bias dalam kesimpulan.\n",
    "* Penting untuk memikirkan tentang keadilan sejak awal saat mengumpulkan data untuk tugas bisnis hingga saat Anda menyajikan kesimpulan kepada pemangku kepentingan.\n",
    "* Contoh analisis data yang mempertimbangkan keadilan adalah tim ilmuwan data Harvard yang mengembangkan platform mobile untuk melacak pasien yang berisiko terkena penyakit kardiovaskular di daerah Amerika Serikat yang disebut Stroke Belt.\n",
    "* Tim ini menggunakan langkah-langkah keadilan untuk memastikan bahwa mereka adil saat memeriksa data yang sensitif dan berpotensi bias.\n",
    "* Mereka bekerja sama dengan ilmuwan sosial dan mengumpulkan data yang dilaporkan sendiri dalam sistem terpisah untuk menghindari bias rasial.\n",
    "* Untuk memastikan populasi sampel tersebut representatif, mereka melakukan oversampling pada kelompok non-dominan.\n",
    "* Tim ini menjadikan keadilan sebagai prioritas utama dalam setiap langkahnya, sehingga mereka berhasil mengumpulkan data dan membuat kesimpulan yang tidak berdampak negatif pada komunitas yang mereka studi.\n",
    "* Memahami apa yang dimaksud dengan keadilan dalam analisis data akan terus dibangun dalam program ini, dan Anda akan berlatih melalui beberapa aktivitas."
   ]
  },
  {
   "attachments": {},
   "cell_type": "markdown",
   "metadata": {},
   "source": [
    "### Self-Reflection: Business cases"
   ]
  },
  {
   "attachments": {},
   "cell_type": "markdown",
   "metadata": {},
   "source": [
    "![Business cases](Images/Asset3.png)"
   ]
  },
  {
   "attachments": {},
   "cell_type": "markdown",
   "metadata": {},
   "source": [
    "![](Images/Asset4.png)"
   ]
  },
  {
   "attachments": {},
   "cell_type": "markdown",
   "metadata": {},
   "source": [
    "![](Images/Asset5.png)"
   ]
  },
  {
   "attachments": {},
   "cell_type": "markdown",
   "metadata": {},
   "source": [
    "### Discussion Prompt: Case opinion"
   ]
  },
  {
   "attachments": {},
   "cell_type": "markdown",
   "metadata": {},
   "source": [
    "![](Images/Asset6.png)"
   ]
  },
  {
   "attachments": {},
   "cell_type": "markdown",
   "metadata": {},
   "source": [
    "### Alex: Fair and ethical data decisions"
   ]
  },
  {
   "attachments": {},
   "cell_type": "markdown",
   "metadata": {},
   "source": [
    "* Tim Etika AI di Google dipimpin oleh Alex, seorang ilmuwan peneliti.\n",
    "* Tim ini fokus pada bagaimana AI berinteraksi dengan masyarakat dan bagaimana penggunaan AI dapat membantu atau membahayakan masyarakat terpinggirkan.\n",
    "* Etika data melibatkan cara yang baik dan benar dalam menggunakan data.\n",
    "* Tujuan utama etika data adalah meningkatkan kehidupan orang dengan menggunakan data.\n",
    "* Pertimbangan dalam etika data meliputi siapa yang mengumpulkan data, mengapa mereka mengumpulkannya, bagaimana cara mereka mengumpulkannya, dan untuk tujuan apa.\n",
    "* Selain meminimalkan bahaya, penting untuk memikirkan bagaimana penggunaan data tersebut akan memberikan manfaat kepada orang-orang yang terwakili dalam data.\n",
    "* Sebagai seorang data scientist atau data analyst, penting untuk tidak melupakan tanggung jawab terhadap orang-orang yang terwakili dalam data.\n",
    "* Perlindungan dan privasi data juga menjadi hal penting, termasuk informasi pribadi seperti gambar, suara, dan teks.\n",
    "* Mekanisme yang memberikan pengguna lebih banyak kontrol atas data mereka juga perlu dipertimbangkan.\n",
    "* Peningkatan kontrol pengguna terhadap data mereka penting, termasuk kemampuan memberikan persetujuan atau meminta penghapusan data.\n",
    "* Data terus berkembang, dan masalah etika data menjadi semakin penting seiring pertumbuhan tersebut."
   ]
  },
  {
   "attachments": {},
   "cell_type": "markdown",
   "metadata": {},
   "source": [
    "## Weekly Challenge\n",
    "\n",
    "![](Images/Asset7.png)\n",
    "![](Images/Asset8.png)\n",
    "![](Images/Asset9.png)"
   ]
  },
  {
   "attachments": {},
   "cell_type": "markdown",
   "metadata": {},
   "source": []
  }
 ],
 "metadata": {
  "language_info": {
   "name": "python"
  },
  "orig_nbformat": 4
 },
 "nbformat": 4,
 "nbformat_minor": 2
}
