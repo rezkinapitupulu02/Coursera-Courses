{
 "cells": [
  {
   "attachments": {},
   "cell_type": "markdown",
   "metadata": {},
   "source": [
    "# Endless career possibilites"
   ]
  },
  {
   "attachments": {},
   "cell_type": "markdown",
   "metadata": {},
   "source": [
    "Businesses of all kinds value the work done by data analysts. In this part of the course, you’ll find out about these businesses and the specific jobs and tasks that analysts perform for them. You’ll also learn how your data analyst certificate will help you meet many of the requirements for a position with these businesses.\n",
    "\n",
    "* Describe the role of a data analyst with specific reference to job roles\n",
    "* Discuss how the Google Data Analytics Certificate can help a candidate meet the requirements of a given job\n",
    "* Explain how a business task may be appropriate for a data analyst, with reference to fairness and the value of the data analyst\n",
    "* Identify companies that would potentially hire data analysts\n",
    "* Describe how one's prior experiences may be applied to a career as a data analyst\n",
    "* Determine whether the use of data constitutes fair or unfair practices\n",
    "* Understand the different ways organizations use data\n",
    "* Explain the concept of data-driven decision-making including specific examples"
   ]
  },
  {
   "attachments": {},
   "cell_type": "markdown",
   "metadata": {},
   "source": [
    "## Data Analyst job opportunities"
   ]
  },
  {
   "attachments": {},
   "cell_type": "markdown",
   "metadata": {},
   "source": [
    "### Lets' get down to business"
   ]
  },
  {
   "attachments": {},
   "cell_type": "markdown",
   "metadata": {},
   "source": [
    "We will talk about how business using data in practical way.\n",
    "\n",
    "We will talk about:\n",
    "* The role of a Data Analyst\n",
    "* Business tasks for Data Analyst\n",
    "* Fairness in analysis\n",
    "* Opportunities for you\n",
    "* And your future success!"
   ]
  },
  {
   "attachments": {},
   "cell_type": "markdown",
   "metadata": {},
   "source": [
    "### The job of a data analyst"
   ]
  },
  {
   "attachments": {},
   "cell_type": "markdown",
   "metadata": {},
   "source": [
    "* Data analysts work in various industries, such as technology, marketing, finance, healthcare, and more.\n",
    "* Companies like Coca-Cola and Google use data analytics to enhance their marketing strategies and provide accurate search results.\n",
    "* Small businesses are also leveraging data-driven insights to improve operations and make better decisions.\n",
    "* An example is a city zoo and aquarium using data analysis to predict visitor numbers based on local climate data, improving staffing and visitor experiences.\n",
    "* The healthcare industry uses data analysts to analyze clinic attendance data and optimize staffing to reduce wait times and improve patient care.\n",
    "* Data analysts play a crucial role in helping companies across industries utilize data effectively.\n",
    "* By completing the program, learners will acquire core skills that are valuable in any industry relying on data-driven decision-making.\n",
    "* The upcoming topics will explore specific business tasks where data is beneficial and further showcase the impact of data analysts in empowering businesses through data."
   ]
  },
  {
   "attachments": {},
   "cell_type": "markdown",
   "metadata": {},
   "source": [
    "### Joey Story: Path to becoming a data analyst\n",
    "\n",
    "* Joey is an analytics program manager in the Real Estate and Workplace Services (REWS) department.\n",
    "* His role involves incorporating data and analytics into decision-making for creating a safe and enjoyable work environment.\n",
    "* Joey's journey into analytics began in a rotational program called the HRA program within people operations.\n",
    "* Through different roles, he discovered a passion for analytical work, particularly on the business intelligence team.\n",
    "* Problem-solving and helping people are two passions that Joey connects with in his analytics career.\n",
    "* He emphasizes the importance of blending technical expertise with interpersonal skills for success in analytics.\n",
    "* Initially focusing on technical knowledge, Joey realized the need to develop his interpersonal skills over time.\n",
    "* His career has provided opportunities to nurture both sides—human interaction and technical expertise.\n",
    "\n",
    "🔑: Soft skills are also important."
   ]
  },
  {
   "attachments": {},
   "cell_type": "markdown",
   "metadata": {},
   "source": [
    "### Self-Reflection: Business use of data (Quiz)\n",
    "\n",
    "![quiz](Images\\Asset1.png)"
   ]
  },
  {
   "attachments": {},
   "cell_type": "markdown",
   "metadata": {},
   "source": [
    "### Tony: Supporting careers in data analytics"
   ]
  },
  {
   "attachments": {},
   "cell_type": "markdown",
   "metadata": {},
   "source": [
    "* Understanding, respecting, and working with data is crucial for analysts and early-career professionals.\n",
    "* The vision is that every role will involve data, and extracting insights from it will be essential in critical positions across organizations.\n",
    "* In the first two years of a career, developing core skills as a generalist is important.\n",
    "* In the following 2-5 years, individuals can focus on specific areas related to their job or acquire technical expertise.\n",
    "* Various paths can be taken from the starting point, such as transitioning from finance to operations or becoming a business or data analyst.\n",
    "* The speaker is passionate about supporting and providing a jumpstart to young professionals based on personal experiences of lacking support in the early years.\n",
    "* Programs like these help remove barriers and allow individuals to discover their potential and envision their career growth.\n",
    "* The speaker, Tony, is a Finance program manager at Google."
   ]
  },
  {
   "attachments": {},
   "cell_type": "markdown",
   "metadata": {},
   "source": [
    "### Reading: Learning Log: Reflect on the data analysis process\n",
    "\n",
    "![Learning Log](Images/Asset2.png)"
   ]
  },
  {
   "attachments": {},
   "cell_type": "markdown",
   "metadata": {},
   "source": [
    "## The importance of fair business decisions"
   ]
  },
  {
   "attachments": {},
   "cell_type": "markdown",
   "metadata": {},
   "source": [
    "### The power of data in business"
   ]
  },
  {
   "attachments": {},
   "cell_type": "markdown",
   "metadata": {},
   "source": [
    "* Tugas seorang analis data adalah menyelesaikan tugas bisnis yang membantu perusahaan menggunakan data.\n",
    "* Ada tiga hal yang perlu dipahami: \n",
    "    * masalah (**issue**)\n",
    "    * pertanyaan (**question**), dan \n",
    "    * masalah (**problem**).\n",
    "* Coca-Cola memiliki **pertanyaan** tentang produk baru, dan analisis data memberikan wawasan tentang rasa baru yang disukai pelanggan.\n",
    "* City Zoo and Aquarium memiliki masalah dengan penjadwalan karyawan, dan analisis data membantu mereka menemukan strategi penjadwalan terbaik.\n",
    "* Tugas bisnis (**business task**) adalah pertanyaan atau masalah yang dijawab oleh analisis data untuk kepentingan bisnis.\n",
    "* **Keputusan berbasis data** adalah penggunaan fakta yang ditemukan melalui analisis data untuk mengarahkan strategi bisnis.\n",
    "* Analisis data membantu perusahaan membuat keputusan yang lebih baik dengan memberikan gambaran lengkap tentang masalah dan penyebabnya.\n",
    "* Sebagai analis data, tugas Anda adalah mengajukan pertanyaan yang tepat, merencanakan cara terbaik untuk mengumpulkan dan menganalisis data, serta menyajikannya secara visual kepada tim untuk mengambil keputusan berbasis data.\n",
    "* Data adalah alat yang kuat, namun perlu digunakan dengan tanggung jawab untuk memastikan pengumpulan, analisis, dan presentasi data dilakukan dengan adil bagi individu yang diwakili oleh data tersebut."
   ]
  },
  {
   "attachments": {},
   "cell_type": "markdown",
   "metadata": {},
   "source": [
    "🔑\n",
    "* **Issue**: A topic or subject to investigate\n",
    "* **Question**: Designed to discover information\n",
    "* **Problem**: An obstacle or complication that needs to be worked out\n",
    "* **Business Task**: The question or problem data analysisi answers for a business\n",
    "* **Data-driven decision-making**: Using facts to guide business strategy\n",
    "* When we are making decisions based on guts feeling, we only provide a short-term solution. Data helps us to see the whole thing."
   ]
  },
  {
   "attachments": {},
   "cell_type": "markdown",
   "metadata": {},
   "source": []
  }
 ],
 "metadata": {
  "language_info": {
   "name": "python"
  },
  "orig_nbformat": 4
 },
 "nbformat": 4,
 "nbformat_minor": 2
}
