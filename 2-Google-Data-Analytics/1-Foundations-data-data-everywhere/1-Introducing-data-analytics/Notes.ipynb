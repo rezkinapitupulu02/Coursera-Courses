{
 "cells": [
  {
   "attachments": {},
   "cell_type": "markdown",
   "metadata": {},
   "source": [
    "# Introducing data analytics"
   ]
  },
  {
   "attachments": {},
   "cell_type": "markdown",
   "metadata": {},
   "source": [
    "Data helps us make decisions in everyday life and in business. In this first part of the course, you’ll learn how data analysts use data analytics and the tools of their trade to inform those decisions. You’ll also discover more about this course and the overall program expectations.\n",
    "\n",
    "**Learning Objectives:**\n",
    "* Define key concepts involved in data analytics including data, data analysis, and data ecosystem\n",
    "* Discuss the use of data in everyday life decisions\n",
    "* Identify the key features of the learning environment and their uses\n",
    "* Describe principles and practices that will help to increase one's chances of success in this certificate\n",
    "* Explain the use of data in organizational decision*making\n",
    "* Describe the key concepts to be discussed in the program, including learning outcomes"
   ]
  },
  {
   "attachments": {},
   "cell_type": "markdown",
   "metadata": {},
   "source": [
    "## Get started"
   ]
  },
  {
   "attachments": {},
   "cell_type": "markdown",
   "metadata": {},
   "source": [
    "### Welcome to the Google Data Analytics Certificate"
   ]
  },
  {
   "attachments": {},
   "cell_type": "markdown",
   "metadata": {},
   "source": [
    "* Companies in various industries, including e-commerce, entertainment, healthcare, manufacturing, marketing, finance, and tech, all utilize data for various purposes.\n",
    "* Data analysts play a crucial role in helping organizations improve processes, identify trends, launch products, provide excellent customer service, and make informed decisions.\n",
    "* Google offers the Google Data Analytics Certificate, which provides industry-relevant skills in data analytics.\n",
    "* Data is a collection of facts, including numbers, pictures, videos, words, measurements, and observations.\n",
    "* Data analysis involves collecting, transforming, and organizing data to draw conclusions, make predictions, and drive decision-making.\n",
    "* Data analysis provides new information throughout the data's life cycle.\n",
    "* Data is everywhere, and individuals both use and create data daily.\n",
    "* The demand for data analysts exceeds the number of qualified professionals, making it a promising career path.\n",
    "* The Google Data Analytics Certificate is divided into courses covering ask, prepare, process, analyze, share, and act processes.\n",
    "* The program offers flexibility for self-paced learning and includes videos, reading materials, quizzes, activities, and discussion prompts.\n",
    "* The certificate program includes insights from Google employees, providing industry perspectives and career advice.\n",
    "* Lifelong learning and education are emphasized as key factors in personal growth, success, and creating opportunities.\n",
    "* Various instructors and experts guide learners through each course module, covering different topics and practical skills.\n",
    "* The program culminates in a case study project to demonstrate acquired skills and enhance job prospects.\n",
    "* The potential and possibilities of becoming a data analyst are highlighted, as data offers tremendous opportunities for exploration and impact."
   ]
  },
  {
   "attachments": {},
   "cell_type": "markdown",
   "metadata": {},
   "source": []
  }
 ],
 "metadata": {
  "language_info": {
   "name": "python"
  },
  "orig_nbformat": 4
 },
 "nbformat": 4,
 "nbformat_minor": 2
}
